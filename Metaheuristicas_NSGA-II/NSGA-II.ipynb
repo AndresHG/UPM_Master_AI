{
 "cells": [
  {
   "cell_type": "markdown",
   "metadata": {},
   "source": [
    "# NSGA-II and ZDT tests\n",
    "These is the [Deap](https://github.com/DEAP/deap/tree/f6accf730555c5bbc1c50ac310250ad707353080) implementation of the algorithm NSGA-II. I have just made a example file executing the Zitzler et al. tests.\n",
    "\n",
    "The documentation of the library can be found [here](https://deap.readthedocs.io/en/master/) and the code for the benchmarck function ZDT, [here](https://github.com/DEAP/deap/blob/f6accf730555c5bbc1c50ac310250ad707353080/deap/benchmarks/__init__.py)"
   ]
  },
  {
   "cell_type": "code",
   "execution_count": 1,
   "metadata": {},
   "outputs": [],
   "source": [
    "import array\n",
    "import random\n",
    "import json\n",
    "\n",
    "import numpy\n",
    "\n",
    "from math import sqrt\n",
    "\n",
    "from deap import algorithms\n",
    "from deap import base\n",
    "from deap import benchmarks\n",
    "from deap.benchmarks.tools import diversity, convergence, hypervolume\n",
    "from deap import creator\n",
    "from deap import tools"
   ]
  },
  {
   "cell_type": "code",
   "execution_count": 2,
   "metadata": {},
   "outputs": [],
   "source": [
    "from pprint import pprint\n",
    "\n",
    "# Uncomment this to debugg the code\n",
    "# import pixiedust"
   ]
  },
  {
   "cell_type": "code",
   "execution_count": 3,
   "metadata": {},
   "outputs": [],
   "source": [
    "creator.create(\"FitnessMin\", base.Fitness, weights=(-1.0, -1.0))\n",
    "creator.create(\"Individual\", array.array, typecode='d', fitness=creator.FitnessMin)\n"
   ]
  },
  {
   "cell_type": "code",
   "execution_count": 4,
   "metadata": {},
   "outputs": [],
   "source": [
    "toolbox = base.Toolbox()\n"
   ]
  },
  {
   "cell_type": "code",
   "execution_count": 5,
   "metadata": {},
   "outputs": [],
   "source": [
    "# Problem definition\n",
    "# Functions zdt1, zdt2, zdt3, zdt6 have bounds [0, 1]\n",
    "BOUND_LOW, BOUND_UP = 0.0, 1.0\n",
    "\n",
    "# Functions zdt4 has bounds x1 = [0, 1], xn = [-5, 5], with n = 2, ..., 10\n",
    "# BOUND_LOW, BOUND_UP = [0.0] + [-5.0]*9, [1.0] + [5.0]*9\n",
    "\n",
    "# Functions zdt1, zdt2, zdt3 have 30 dimensions, zdt4 and zdt6 have 10\n",
    "NDIM = 30\n",
    "\n",
    "def uniform(low, up, size=None):\n",
    "    try:\n",
    "        return [random.uniform(a, b) for a, b in zip(low, up)]\n",
    "    except TypeError:\n",
    "        return [random.uniform(a, b) for a, b in zip([low] * size, [up] * size)]"
   ]
  },
  {
   "cell_type": "code",
   "execution_count": 6,
   "metadata": {},
   "outputs": [],
   "source": [
    "toolbox.register(\"attr_float\", uniform, BOUND_LOW, BOUND_UP, NDIM)\n",
    "toolbox.register(\"individual\", tools.initIterate, creator.Individual, toolbox.attr_float)\n",
    "toolbox.register(\"population\", tools.initRepeat, list, toolbox.individual)\n",
    "\n",
    "toolbox.register(\"evaluate\", (lambda indi: benchmarks.zdt1(indi)))\n",
    "toolbox.register(\"mate\", tools.cxSimulatedBinaryBounded, low=BOUND_LOW, up=BOUND_UP, eta=20.0)\n",
    "toolbox.register(\"mutate\", tools.mutPolynomialBounded, low=BOUND_LOW, up=BOUND_UP, eta=20.0, indpb=1.0/NDIM)\n",
    "toolbox.register(\"select\", tools.selNSGA2)"
   ]
  },
  {
   "cell_type": "code",
   "execution_count": 7,
   "metadata": {
    "pixiedust": {
     "displayParams": {}
    }
   },
   "outputs": [],
   "source": [
    "\n",
    "def main(seed=None):\n",
    "    cont = 0\n",
    "    random.seed(seed)\n",
    "    # Number of generations / iterations of the process\n",
    "    NGEN = 250\n",
    "    # Popuation size\n",
    "    MU = 100\n",
    "    # Cross-over probability\n",
    "    CXPB = 0.9\n",
    "\n",
    "    stats = tools.Statistics(lambda ind: ind.fitness.values)\n",
    "    # stats.register(\"avg\", numpy.mean, axis=0)\n",
    "    # stats.register(\"std\", numpy.std, axis=0)\n",
    "    stats.register(\"min\", numpy.min, axis=0)\n",
    "    stats.register(\"max\", numpy.max, axis=0)\n",
    "    \n",
    "    logbook = tools.Logbook()\n",
    "    logbook.header = \"gen\", \"evals\", \"std\", \"min\", \"avg\", \"max\"\n",
    "    \n",
    "    pop = toolbox.population(n=MU)\n",
    "\n",
    "    # Evaluate the individuals to assign fitness\n",
    "    invalid_ind = [ind for ind in pop if not ind.fitness.valid]\n",
    "    fitnesses = toolbox.map(toolbox.evaluate, invalid_ind)\n",
    "    for ind, fit in zip(invalid_ind, fitnesses):\n",
    "        ind.fitness.values = fit\n",
    "\n",
    "    # This is just to assign the crowding distance to the individuals\n",
    "    # no actual selection is done\n",
    "    pop = toolbox.select(pop, len(pop))\n",
    "    \n",
    "    record = stats.compile(pop)\n",
    "    logbook.record(gen=0, evals=len(invalid_ind), **record)\n",
    "    # print(logbook.stream)\n",
    "\n",
    "    # Begin the generational process\n",
    "    for gen in range(1, NGEN):\n",
    "        # Vary the population\n",
    "        offspring = tools.selTournamentDCD(pop, len(pop))\n",
    "        offspring = [toolbox.clone(ind) for ind in offspring]\n",
    "        \n",
    "        for ind1, ind2 in zip(offspring[::2], offspring[1::2]):\n",
    "            # Check cross-over probability\n",
    "            if random.random() <= CXPB:\n",
    "                toolbox.mate(ind1, ind2)\n",
    "            \n",
    "            toolbox.mutate(ind1)\n",
    "            toolbox.mutate(ind2)\n",
    "            \n",
    "            # Reset chromoseome's fitnesses\n",
    "            del ind1.fitness.values, ind2.fitness.values\n",
    "        \n",
    "        # Evaluate the individuals with an invalid fitness\n",
    "        invalid_ind = [ind for ind in offspring if not ind.fitness.valid]\n",
    "        fitnesses = toolbox.map(toolbox.evaluate, invalid_ind)\n",
    "        \n",
    "        # Re-assign fitnesses to chromosomes\n",
    "        for ind, fit in zip(invalid_ind, fitnesses):\n",
    "            ind.fitness.values = fit\n",
    "\n",
    "        # Select the next generation population\n",
    "        pop = toolbox.select(pop + offspring, MU)\n",
    "        \n",
    "        # if cont == 0:\n",
    "        #     pprint('The CD is: {}'.format(pop[0].fitness.crowding_dist))\n",
    "        #     pprint('The D is: {}'.format(pop[0].fitness.dominates))\n",
    "        #     pprint(pop[0].fitness.values)\n",
    "        #     cont+=1\n",
    "            \n",
    "        record = stats.compile(pop)\n",
    "        logbook.record(gen=gen, evals=len(invalid_ind), **record)\n",
    "        # print(logbook.stream)\n",
    "\n",
    "    print(\"Final population hypervolume is %f\" % hypervolume(pop, [11.0, 11.0]))\n",
    "\n",
    "    return pop, logbook"
   ]
  },
  {
   "cell_type": "code",
   "execution_count": 8,
   "metadata": {},
   "outputs": [],
   "source": [
    "with open(\"pareto_front/zdt1_front.json\") as optimal_front_data:\n",
    "    optimal_front = json.load(optimal_front_data)\n",
    "    #Use 500 of the 1000 points in the json file\n",
    "    optimal_front = sorted(optimal_front[i] for i in range(0, len(optimal_front), 2))"
   ]
  },
  {
   "cell_type": "code",
   "execution_count": 9,
   "metadata": {
    "pixiedust": {
     "displayParams": {}
    }
   },
   "outputs": [
    {
     "name": "stdout",
     "output_type": "stream",
     "text": [
      "Final population hypervolume is 120.652820\n"
     ]
    }
   ],
   "source": [
    "# %%pixie_debugger\n",
    "\n",
    "pop, stats = main()"
   ]
  },
  {
   "cell_type": "code",
   "execution_count": 10,
   "metadata": {},
   "outputs": [
    {
     "name": "stdout",
     "output_type": "stream",
     "text": [
      "Convergence:  0.0016744147140239699\n",
      "Diversity:  0.367382984076487\n"
     ]
    }
   ],
   "source": [
    "pop.sort(key=lambda x: x.fitness.values)\n",
    "\n",
    "# print(stats)\n",
    "# Calculate convergence and diversity compared with the \"optimal_front\" \n",
    "print(\"Convergence: \", convergence(pop, optimal_front))\n",
    "print(\"Diversity: \", diversity(pop, optimal_front[0], optimal_front[-1]))"
   ]
  },
  {
   "cell_type": "code",
   "execution_count": 11,
   "metadata": {},
   "outputs": [],
   "source": [
    "import matplotlib.pyplot as plt\n",
    "import numpy"
   ]
  },
  {
   "cell_type": "code",
   "execution_count": 12,
   "metadata": {},
   "outputs": [],
   "source": [
    "%matplotlib inline\n",
    "%config InlineBackend.figure_format = 'retina'"
   ]
  },
  {
   "cell_type": "code",
   "execution_count": 13,
   "metadata": {},
   "outputs": [
    {
     "data": {
      "image/png": "[encoded data removed]",
      "text/plain": [
       "<matplotlib.figure.Figure at 0x106dd45c0>"
      ]
     },
     "metadata": {
      "image/png": {
       "height": 250,
       "width": 373
      },
      "needs_background": "light"
     },
     "output_type": "display_data"
    }
   ],
   "source": [
    "front = numpy.array([ind.fitness.values for ind in pop])\n",
    "\n",
    "optimal_front = numpy.array(optimal_front)\n",
    "plt.scatter(optimal_front[:,0], optimal_front[:,1], c=\"r\")\n",
    "plt.scatter(front[:,0], front[:,1], c=\"b\")\n",
    "plt.legend(('Optimal Pareto-front','NSGA-II'), loc = 'upper right')\n",
    "plt.axis(\"tight\")\n",
    "plt.show()\n"
   ]
  }
 ],
 "metadata": {
  "kernelspec": {
   "display_name": "Python 3",
   "language": "python",
   "name": "python3"
  },
  "language_info": {
   "codemirror_mode": {
    "name": "ipython",
    "version": 3
   },
   "file_extension": ".py",
   "mimetype": "text/x-python",
   "name": "python",
   "nbconvert_exporter": "python",
   "pygments_lexer": "ipython3",
   "version": "3.6.6"
  }
 },
 "nbformat": 4,
 "nbformat_minor": 2
}
