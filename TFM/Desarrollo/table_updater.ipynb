{
 "cells": [
  {
   "cell_type": "code",
   "execution_count": 1,
   "metadata": {},
   "outputs": [],
   "source": [
    "import pandas as pd\n",
    "from datetime import datetime, timedelta\n",
    "from dateutil.relativedelta import relativedelta\n",
    "from dateutil.rrule import rrule, MONTHLY\n",
    "from pprint import pprint as pp\n",
    "import json\n",
    "import os\n",
    "import shutil\n",
    "import numpy as np\n",
    "from collections import defaultdict"
   ]
  },
  {
   "cell_type": "code",
   "execution_count": 2,
   "metadata": {},
   "outputs": [],
   "source": [
    "from modules.aux_functions import *\n",
    "from modules.global_vars import *\n",
    "from modules.reservation_management import get_reservation_code\n",
    "from modules.table_manager import manage_table, write_table_data, get_table_data"
   ]
  },
  {
   "cell_type": "code",
   "execution_count": 3,
   "metadata": {},
   "outputs": [],
   "source": [
    "np.random.seed(583)"
   ]
  },
  {
   "cell_type": "code",
   "execution_count": 4,
   "metadata": {},
   "outputs": [],
   "source": [
    "table_name = '4_double-superior_lodge_weekend_ls'\n",
    "core_tables_path = 'Tablas_actu/Tablas_hotel/'\n",
    "price_days_tables_path = 'Tablas_actu/Dias_por_precio/'\n",
    "\n",
    "columns = ['p', 'p01', 'p02', 'outcome_prob', 'm_clients', 'm_demand', 'n_days', 't_clients']\n",
    "index = ['p', 'p01', 'p02']\n",
    "\n",
    "hotel1 = \"hotel1\"\n",
    "hotel2 = \"hotel2\"\n",
    "\n",
    "updated_comp_prices = {\n",
    "    \"0\": {\n",
    "        \"hotel1\": 110,\n",
    "        \"hotel2\": 130\n",
    "    },\n",
    "    \"1\": {\n",
    "        \"hotel1\": 110,\n",
    "        \"hotel2\": 130\n",
    "    },\n",
    "    \"2\": {\n",
    "        \"hotel1\": 110,\n",
    "        \"hotel2\": 120\n",
    "    },\n",
    "    \"3\": {\n",
    "        \"hotel1\": 100,\n",
    "        \"hotel2\": 110\n",
    "    },\n",
    "    \"4\": {\n",
    "        \"hotel1\": 90,\n",
    "        \"hotel2\": 100\n",
    "    }\n",
    "}"
   ]
  },
  {
   "cell_type": "code",
   "execution_count": 5,
   "metadata": {},
   "outputs": [],
   "source": [
    "new_reservation = {\n",
    "    TIMESTAMP: datetime.now(),\n",
    "    DATE_FROM: datetime.now() + timedelta(days=2),\n",
    "    DATE_TO: datetime.now() + timedelta(days=3),\n",
    "    ROOM: \"doble superior\",\n",
    "    BOARD: \"Solo Alojamiento\",\n",
    "    PRICE: 120,\n",
    "    DAYS_IN_ADVANCE: 2\n",
    "}\n",
    "\n",
    "new_cm_update = {\n",
    "    \"0\": {\n",
    "        \"hotel1\": 110,\n",
    "        \"hotel2\": 120\n",
    "    },\n",
    "    \"1\": {\n",
    "        \"hotel1\": 110,\n",
    "        \"hotel2\": 120\n",
    "    },\n",
    "    \"2\": {\n",
    "        \"hotel1\": 110,\n",
    "        \"hotel2\": 110\n",
    "    },\n",
    "    \"3\": {\n",
    "        \"hotel1\": 100,\n",
    "        \"hotel2\": 110\n",
    "    },\n",
    "    \"4\": {\n",
    "        \"hotel1\": 90,\n",
    "        \"hotel2\": 100\n",
    "    }\n",
    "}"
   ]
  },
  {
   "cell_type": "code",
   "execution_count": 6,
   "metadata": {},
   "outputs": [],
   "source": [
    "def event_new_reservation(new_reservation):\n",
    "    #Local variables\n",
    "    reservation_code = get_reservation_code(new_reservation)\n",
    "    if reservation_code == \"ERROR\":\n",
    "        pp(\"Error\") \n",
    "        \n",
    "    room_price = new_reservation[PRICE]\n",
    "    loc_days_in_advance = new_reservation[DAYS_IN_ADVANCE]\n",
    "    comp_prices = [loc_price for key, loc_price in updated_comp_prices[str(loc_days_in_advance)].items()]\n",
    "    table_path = core_tables_path + reservation_code + \".csv\"\n",
    "    \n",
    "    if os.path.isfile(table_path):\n",
    "        df = pd.read_csv(table_path, index_col=index)\n",
    "    else:\n",
    "        df = pd.DataFrame(columns=columns)\n",
    "        df.set_index(index, inplace=True)\n",
    "        \n",
    "    loc_index = [room_price] + comp_prices\n",
    "    loc_index_tup = tuple(loc_index)\n",
    "    \n",
    "    if loc_index_tup in df.index:\n",
    "        df.loc[loc_index_tup, \"t_clients\"] += 1\n",
    "    else:\n",
    "        df.loc[loc_index_tup] = [0, 0, 0, 0, 1]\n",
    "    \n",
    "    pp(df)\n",
    "    df.to_csv(table_path, sep=',', encoding='utf-8')"
   ]
  },
  {
   "cell_type": "code",
   "execution_count": 8,
   "metadata": {},
   "outputs": [
    {
     "name": "stdout",
     "output_type": "stream",
     "text": [
      "[110, 120]\n",
      "             outcome_prob  m_clients  m_demand  n_days  t_clients\n",
      "p   p01 p02                                                      \n",
      "120 110 110             0          0         0       0          1\n",
      "        120             0          0         0       0          2\n"
     ]
    }
   ],
   "source": [
    "event_new_reservation(new_reservation)"
   ]
  },
  {
   "cell_type": "code",
   "execution_count": null,
   "metadata": {},
   "outputs": [],
   "source": [
    "def event_new_cm_update(new_cm_update):\n",
    "    "
   ]
  }
 ],
 "metadata": {
  "kernelspec": {
   "display_name": "Python 3",
   "language": "python",
   "name": "python3"
  },
  "language_info": {
   "codemirror_mode": {
    "name": "ipython",
    "version": 3
   },
   "file_extension": ".py",
   "mimetype": "text/x-python",
   "name": "python",
   "nbconvert_exporter": "python",
   "pygments_lexer": "ipython3",
   "version": "3.6.8"
  }
 },
 "nbformat": 4,
 "nbformat_minor": 2
}
