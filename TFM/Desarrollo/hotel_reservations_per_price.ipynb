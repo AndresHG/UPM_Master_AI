{
 "cells": [
  {
   "cell_type": "code",
   "execution_count": 1,
   "metadata": {},
   "outputs": [],
   "source": [
    "import pandas as pd\n",
    "from datetime import datetime, timedelta\n",
    "from dateutil.relativedelta import relativedelta\n",
    "from dateutil.rrule import rrule, MONTHLY\n",
    "from pprint import pprint as pp\n",
    "import json\n",
    "import os\n",
    "import shutil\n",
    "import numpy as np\n",
    "from collections import defaultdict"
   ]
  },
  {
   "cell_type": "code",
   "execution_count": 2,
   "metadata": {},
   "outputs": [],
   "source": [
    "from modules.aux_functions import *\n",
    "from modules.global_vars import *\n",
    "from modules.reservation_management import get_reservation_code\n",
    "from modules.table_manager import manage_table, write_table_data, get_table_data"
   ]
  },
  {
   "cell_type": "code",
   "execution_count": 3,
   "metadata": {},
   "outputs": [],
   "source": [
    "np.random.seed(583)"
   ]
  },
  {
   "cell_type": "code",
   "execution_count": 4,
   "metadata": {},
   "outputs": [],
   "source": [
    "def manage_hotel_table(reservation, hotel_table_path):\n",
    "    \"\"\"FIXME! briefly describe function\n",
    "\n",
    "    :param reservation: \n",
    "    :param hotel_table_path: \n",
    "    :returns: \n",
    "    :rtype: \n",
    "\n",
    "    \"\"\"\n",
    "    table_code = get_reservation_code(reservation)\n",
    "\n",
    "    file_path = hotel_table_path + table_code + TABLES_EXTENSION\n",
    "\n",
    "    table_data = get_table_data(file_path)\n",
    "\n",
    "    # Generate competititon price code\n",
    "    our_price = str(round_price(reservation[PRICE], UNITS))\n",
    "\n",
    "    # Case of our_price as key\n",
    "    # Retrieve value of the table and set it to 0 if not exists\n",
    "    \n",
    "    temp_date = reservation[TIMESTAMP].strftime(\"%d/%m/%Y\")\n",
    "    if our_price in table_data.keys():\n",
    "        table_data[our_price][RESERVATIONS] += 1\n",
    "        temp_dates = set(table_data[our_price][RES_DAYS])\n",
    "        temp_dates.add(temp_date)\n",
    "        table_data[our_price][RES_DAYS] = list(temp_dates)\n",
    "    else:\n",
    "        table_data[our_price] = {}\n",
    "        table_data[our_price][RESERVATIONS] = 1\n",
    "        table_data[our_price][RES_DAYS] = [temp_date]\n",
    "\n",
    "    write_table_data(table_data, file_path)\n"
   ]
  },
  {
   "cell_type": "code",
   "execution_count": 5,
   "metadata": {},
   "outputs": [
    {
     "name": "stdout",
     "output_type": "stream",
     "text": [
      "Temp_tables/Melia Barajas/\n",
      "defaultdict(<class 'int'>,\n",
      "            {'01/2018': 30960,\n",
      "             '02/2018': 630035,\n",
      "             '03/2018': 20874})\n",
      "Temp_tables/Axor Barajas/\n",
      "defaultdict(<class 'int'>,\n",
      "            {'01/2018': 367517,\n",
      "             '02/2018': 327209,\n",
      "             '03/2018': 9394,\n",
      "             '09/2017': 24,\n",
      "             '10/2017': 223237,\n",
      "             '11/2017': 255907,\n",
      "             '12/2017': 45872})\n",
      "Temp_tables/Senator Barajas/\n",
      "defaultdict(<class 'int'>,\n",
      "            {'01/2018': 387313,\n",
      "             '02/2018': 338988,\n",
      "             '03/2018': 10549,\n",
      "             '09/2017': 24,\n",
      "             '10/2017': 297039,\n",
      "             '11/2017': 340635,\n",
      "             '12/2017': 49645})\n"
     ]
    }
   ],
   "source": [
    "hotel_days = {}\n",
    "\n",
    "for hotel in ALL_HOTELS:\n",
    "\n",
    "    hotel_table_path = TEMP_HOTEL_TABLES_PATH + hotel + \"/\"\n",
    "\n",
    "    hotel_path = \"Dataset/Hoteles/obatch- \" + hotel\n",
    "    # Load data\n",
    "    df = pd.read_csv(hotel_path)\n",
    "    df = cleanData(df)\n",
    "\n",
    "    # pp(df[ROOM].unique())\n",
    "\n",
    "    if os.path.exists(hotel_table_path):\n",
    "        shutil.rmtree(hotel_table_path)\n",
    "    os.mkdir(hotel_table_path)\n",
    "    print(hotel_table_path)\n",
    "    \n",
    "    hotel_days[hotel] = (df[TIMESTAMP].max() - df[TIMESTAMP].min()).days\n",
    "\n",
    "    res_per_month = defaultdict(int)\n",
    "    \n",
    "    #for dt in rrule(MONTHLY, dtstart=df[TIMESTAMP].min(), until=df[TIMESTAMP].max()):\n",
    "    #    res_per_month[dt.strftime(\"%m/%Y\")] = 0\n",
    "            \n",
    "    for index, reservation in df.iterrows():\n",
    "        res_per_month[reservation[TIMESTAMP].strftime(\"%m/%Y\")] += 1\n",
    "        if get_reservation_code(reservation) == \"ERROR\":\n",
    "            continue\n",
    "        if reservation[DAYS_IN_ADVANCE] <= 31:\n",
    "            manage_hotel_table(reservation, hotel_table_path)\n",
    "    \n",
    "    pp(res_per_month)"
   ]
  },
  {
   "cell_type": "code",
   "execution_count": 6,
   "metadata": {},
   "outputs": [
    {
     "data": {
      "text/plain": [
       "{'Melia Barajas': 56, 'Axor Barajas': 154, 'Senator Barajas': 154}"
      ]
     },
     "execution_count": 6,
     "metadata": {},
     "output_type": "execute_result"
    }
   ],
   "source": [
    "hotel_days"
   ]
  },
  {
   "cell_type": "code",
   "execution_count": 7,
   "metadata": {},
   "outputs": [
    {
     "name": "stdout",
     "output_type": "stream",
     "text": [
      "Tablas_hotel/Melia Barajas/\n",
      "Tablas_hotel/Axor Barajas/\n",
      "Tablas_hotel/Senator Barajas/\n"
     ]
    }
   ],
   "source": [
    "# Proceso para calcula el número medio de clientes por día, distribuyendo los días totales de reservas\n",
    "# de manera proporcional entre los precios, y utilizando como proporción el núero de días distintos que\n",
    "# se ha puesto cada precio.\n",
    "\n",
    "for hotel in ALL_HOTELS:\n",
    "    final_table_path = HOTEL_TABLES_PATH + hotel + \"/\"\n",
    "    hotel_table_path = TEMP_HOTEL_TABLES_PATH + hotel + \"/\"\n",
    "    hotel_price_days_path = PRICE_DAYS_TABLES_PATH + hotel + \"/\"\n",
    "    \n",
    "    if os.path.exists(final_table_path):\n",
    "        shutil.rmtree(final_table_path)\n",
    "    os.makedirs(final_table_path)\n",
    "    print(final_table_path)\n",
    "    \n",
    "    if os.path.exists(hotel_price_days_path):\n",
    "        shutil.rmtree(hotel_price_days_path)\n",
    "    os.makedirs(hotel_price_days_path)\n",
    "    \n",
    "    for file_name in os.listdir(hotel_table_path):\n",
    "        table_file = hotel_table_path + file_name\n",
    "        final_file = final_table_path + file_name\n",
    "        final_price_days_file = hotel_price_days_path + file_name\n",
    "        \n",
    "        with open(table_file) as fp:\n",
    "            hotel_data = json.load(fp)\n",
    "        \n",
    "        total_days = 0\n",
    "        for price in hotel_data:\n",
    "            total_days += len(hotel_data[price][RES_DAYS])\n",
    "        \n",
    "        price_days_dict = {}\n",
    "        out_data = {}\n",
    "        for price in hotel_data:\n",
    "            out_data[price] = hotel_data[price][RESERVATIONS] / (\n",
    "                hotel_days[hotel] * (len(hotel_data[price][RES_DAYS]) / total_days))\n",
    "            price_days_dict[price] = hotel_days[hotel] * (len(hotel_data[price][RES_DAYS]) / total_days)\n",
    "        \n",
    "        write_table_data(out_data, final_file)\n",
    "        write_table_data(price_days_dict, final_price_days_file)"
   ]
  },
  {
   "cell_type": "code",
   "execution_count": null,
   "metadata": {},
   "outputs": [],
   "source": []
  }
 ],
 "metadata": {
  "kernelspec": {
   "display_name": "Python 3",
   "language": "python",
   "name": "python3"
  },
  "language_info": {
   "codemirror_mode": {
    "name": "ipython",
    "version": 3
   },
   "file_extension": ".py",
   "mimetype": "text/x-python",
   "name": "python",
   "nbconvert_exporter": "python",
   "pygments_lexer": "ipython3",
   "version": "3.6.8"
  }
 },
 "nbformat": 4,
 "nbformat_minor": 2
}
