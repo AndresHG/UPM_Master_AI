{
 "cells": [
  {
   "cell_type": "code",
   "execution_count": 1,
   "metadata": {},
   "outputs": [],
   "source": [
    "import pandas as pd\n",
    "from datetime import datetime\n",
    "from pprint import pprint as pp\n",
    "import json\n",
    "import os\n",
    "import csv\n",
    "import shutil\n",
    "import numpy as np\n",
    "from scipy.interpolate import interp1d\n",
    "import random\n",
    "import operator\n",
    "import itertools\n",
    "from copy import deepcopy"
   ]
  },
  {
   "cell_type": "code",
   "execution_count": 2,
   "metadata": {},
   "outputs": [],
   "source": [
    "import warnings\n",
    "warnings.filterwarnings(\"ignore\", category=DeprecationWarning)"
   ]
  },
  {
   "cell_type": "code",
   "execution_count": 3,
   "metadata": {},
   "outputs": [],
   "source": [
    "from modules.aux_functions import *\n",
    "from modules.global_vars import *\n",
    "from modules.reservation_management import get_reservation_code\n",
    "from modules.table_manager import manage_table, write_table_data, get_table_data"
   ]
  },
  {
   "cell_type": "code",
   "execution_count": 4,
   "metadata": {},
   "outputs": [],
   "source": [
    "import matplotlib.pyplot as plt   #Data visualisation libraries \n",
    "from mpl_toolkits.mplot3d import Axes3D\n",
    "import seaborn as sns\n",
    "from sklearn.model_selection import train_test_split\n",
    "from sklearn.linear_model import LinearRegression, LogisticRegression\n",
    "from sklearn.metrics import mean_squared_error, r2_score, accuracy_score"
   ]
  },
  {
   "cell_type": "code",
   "execution_count": 5,
   "metadata": {},
   "outputs": [],
   "source": [
    "LOCAL_COMPETENCE_HOTELS = [\"Axor Barajas\", \"Senator Barajas\"]\n",
    "LOCAL_HOTEL = \"Melia Barajas\""
   ]
  },
  {
   "cell_type": "code",
   "execution_count": 6,
   "metadata": {},
   "outputs": [],
   "source": [
    "%matplotlib inline"
   ]
  },
  {
   "cell_type": "code",
   "execution_count": 7,
   "metadata": {},
   "outputs": [],
   "source": [
    "np.random.seed(583)\n",
    "random.seed(352)"
   ]
  },
  {
   "cell_type": "code",
   "execution_count": 8,
   "metadata": {},
   "outputs": [],
   "source": [
    "my_hotel_path = FINAL_TABLES_PATH + HOTEL + '/'\n",
    "#file_name = '0_double_lodge_week_ls.json'\n",
    "file_name = '21_double-superior_lodge_weekend_ls.json'\n",
    "file_to_test = my_hotel_path + file_name\n",
    "hotel_data = {}\n",
    "ara_values = {}"
   ]
  },
  {
   "cell_type": "code",
   "execution_count": 9,
   "metadata": {},
   "outputs": [],
   "source": [
    "in_folder = FINAL_CSV_PATH + \"/\" + HOTEL + '/'\n",
    "in_csv_file = in_folder + file_name.split(\".\")[0] + \".csv\"\n",
    "\n",
    "df = pd.read_csv(in_csv_file, sep=';', index_col= [\"p\", \"p0_1\", \"p0_2\"])\n",
    "hotel_data = pd.read_csv(in_csv_file, sep=';', index_col= [\"p\", \"p0_1\", \"p0_2\"])\n",
    "\n",
    "del df['Unnamed: 0']\n",
    "del hotel_data['Unnamed: 0']\n",
    "\n",
    "room_type, season = operator.itemgetter(*[1, 4])(file_name.split(\".\")[0].split(\"_\"))"
   ]
  },
  {
   "cell_type": "code",
   "execution_count": 10,
   "metadata": {},
   "outputs": [],
   "source": [
    "hotel_data_ni = pd.read_csv(in_csv_file, sep=';')\n",
    "\n",
    "del hotel_data_ni['Unnamed: 0']"
   ]
  },
  {
   "cell_type": "markdown",
   "metadata": {},
   "source": [
    "## Funciones auxiliares"
   ]
  },
  {
   "cell_type": "code",
   "execution_count": 11,
   "metadata": {},
   "outputs": [],
   "source": [
    "def get_utility(room_price, outcome):\n",
    "    \"\"\"Calculate the utility of a room given a specific the room price\n",
    "\n",
    "    :param room_price: The specific price of the room\n",
    "    :returns: Value of the utility\n",
    "    :rtype: Integer\n",
    "\n",
    "    \"\"\"\n",
    "    total_benefits = int(room_price) + ROOM_BENEFITS[room_type] - \\\n",
    "        ROOM_COSTS[room_type] + SEASON_BENEFITS[season]\n",
    "    total_benefits *= outcome\n",
    "    return total_benefits"
   ]
  },
  {
   "cell_type": "code",
   "execution_count": 12,
   "metadata": {},
   "outputs": [],
   "source": [
    "def competence_data():\n",
    "    \"\"\"Retrieve the competence data\n",
    "\n",
    "    :returns: Comptence prices and its correspond clients\n",
    "    :rtype: Dictionary\n",
    "\n",
    "    \"\"\"\n",
    "    comp_data = {}\n",
    "    for indi, comp_hotel in enumerate(COMPETENCE_HOTELS):\n",
    "        comp_table = FINAL_CSV_PATH + comp_hotel + '/' + file_name.split(\".\")[0] + \".csv\"\n",
    "        comp_data[comp_hotel] = pd.read_csv(comp_table, sep=';', index_col= [\"p\"])\n",
    "        del comp_data[comp_hotel]['Unnamed: 0']\n",
    "    return comp_data"
   ]
  },
  {
   "cell_type": "code",
   "execution_count": 13,
   "metadata": {},
   "outputs": [],
   "source": [
    "def get_comp_price_days():\n",
    "    \"\"\"Retrieve the competence days per price\n",
    "\n",
    "    :returns: Comptence days per price\n",
    "    :rtype: Dictionary of dictionaries\n",
    "\n",
    "    \"\"\"    \n",
    "    comp_price_days = {}\n",
    "    for indi, comp_hotel in enumerate(COMPETENCE_HOTELS):\n",
    "        comp_table = PRICE_DAYS_TABLES_PATH + comp_hotel + '/' + file_name\n",
    "        with open(comp_table) as fp:\n",
    "            comp_price_days[comp_hotel] = json.load(fp)\n",
    "    \n",
    "    return comp_price_days"
   ]
  },
  {
   "cell_type": "code",
   "execution_count": 14,
   "metadata": {},
   "outputs": [],
   "source": [
    "def get_virtual_comp_prices(room_price):\n",
    "    room_price = int(room_price)\n",
    "    temp_room_prices = []\n",
    "    room_prices = []\n",
    "    for indi in range(len(COMPETENCE_HOTELS)):\n",
    "        temp_room_prices.append([room_price - (x * UNITS) for x in range(MIN_COMP_VIRTUAL, MAX_COMP_VIRTUAL +1) if \\\n",
    "                                room_price - (x * UNITS) >= MIN_PRICE and room_price - (x * UNITS) < MAX_PRICE])\n",
    "    \n",
    "    temp_room_prices = list(itertools.product(*temp_room_prices))\n",
    "    for tuple_prices in temp_room_prices:\n",
    "        room_prices.append(','.join([str(x) for x in tuple_prices]))\n",
    "\n",
    "    return room_prices"
   ]
  },
  {
   "cell_type": "markdown",
   "metadata": {},
   "source": [
    "## Desarrollo del codigo para ARA"
   ]
  },
  {
   "cell_type": "code",
   "execution_count": 15,
   "metadata": {},
   "outputs": [],
   "source": [
    "def get_outcome_prob(our_price, comp_prices):\n",
    "    \n",
    "    x_prices = [our_price] + comp_prices\n",
    "    outcome_prob = lm.predict([x_prices])\n",
    "\n",
    "    return outcome_prob[0] if outcome_prob[0] > 0 else 0"
   ]
  },
  {
   "cell_type": "code",
   "execution_count": 16,
   "metadata": {},
   "outputs": [],
   "source": [
    "def get_price_probability(hotel_data, selected_price):\n",
    "    \"\"\"Calculate the probability that the competence chose selected_price\n",
    "\n",
    "    :param dict_prices: Dict with the prices used by the competence\n",
    "    :param selected_price: Tuple string with the selected prices for the competence\n",
    "    :returns: Probability that the competence choose the selected_price\n",
    "    :rtype: Double\n",
    "\n",
    "    \"\"\"\n",
    "\n",
    "    comp_hotel_data = {}\n",
    "    result = 1\n",
    "\n",
    "    # We stract the price clients that we have used want from competence data\n",
    "    for indi, hotel_name in enumerate(LOCAL_COMPETENCE_HOTELS):\n",
    "        comp_hotel_data[hotel_name] = {}\n",
    "        comp_hotel_data[hotel_name]['total'] = 0\n",
    "        comp_hotel_data[hotel_name]['chosen'] = 0        \n",
    "\n",
    "        for key, value in hotel_data[hotel_name].items():\n",
    "            price = selected_price[indi]\n",
    "            if int(key) == price:\n",
    "                comp_hotel_data[hotel_name]['chosen'] += value\n",
    "            comp_hotel_data[hotel_name]['total'] += value\n",
    "\n",
    "    for hotel_name in comp_hotel_data:\n",
    "        result *= comp_hotel_data[hotel_name]['chosen'] / comp_hotel_data[hotel_name]['total']\n",
    "\n",
    "    return result"
   ]
  },
  {
   "cell_type": "code",
   "execution_count": 17,
   "metadata": {},
   "outputs": [],
   "source": [
    "def generate_ara_values(hotel_data, comp_data, comp_price_days, comp_known=False):\n",
    "    \"\"\"Generate ARA values from the formulas\n",
    "\n",
    "    :returns: Array with all of the ARA values\n",
    "    :rtype: List\n",
    "\n",
    "    \"\"\"\n",
    "    ara_values = {}\n",
    "    comp_prices = {}\n",
    "    for index, row in hotel_data.iterrows():\n",
    "        room_price, comp_price = index[0], index[1:]\n",
    "        \n",
    "        outcome_prob = row['outcome_prob']\n",
    "        temp_ara_val = 0\n",
    "        \n",
    "        for outcome in [0, 1]:\n",
    "            if outcome == 1:\n",
    "                if not comp_known:\n",
    "                    temp_ara_val += get_utility(room_price, outcome) * \\\n",
    "                        outcome_prob * \\\n",
    "                        get_price_probability(comp_price_days, comp_price)\n",
    "                else:\n",
    "                    temp_ara_val += get_utility(room_price, outcome) * \\\n",
    "                        outcome_prob\n",
    "            else:\n",
    "                if not comp_known:\n",
    "                    temp_ara_val -= get_utility(room_price, outcome) * \\\n",
    "                        (1 - outcome_prob) * \\\n",
    "                        get_price_probability(comp_price_days, comp_price)\n",
    "                else:\n",
    "                    temp_ara_val -= get_utility(room_price, outcome) * \\\n",
    "                        (1 - outcome_prob)\n",
    "                \n",
    "        if not room_price in ara_values.keys():\n",
    "            ara_values[room_price] = 0\n",
    "        ara_values[room_price] += temp_ara_val\n",
    "\n",
    "    return ara_values"
   ]
  },
  {
   "cell_type": "code",
   "execution_count": 18,
   "metadata": {},
   "outputs": [],
   "source": [
    "def optimal_prices(local_hotel_data, comp_known=False):\n",
    "\n",
    "    comp_data = competence_data()\n",
    "    comp_price_days = get_comp_price_days()\n",
    "    ara_values = generate_ara_values(local_hotel_data, comp_data, comp_price_days, comp_known)\n",
    "    pp(ara_values)\n",
    "    \n",
    "    #with open('test.csv', 'w') as f:\n",
    "    #    for key in ara_values.keys():\n",
    "    #        f.write(\"%s,%s\\n\"%(key,ara_values[key]))\n",
    "\n",
    "    return ara_values"
   ]
  },
  {
   "cell_type": "code",
   "execution_count": 19,
   "metadata": {},
   "outputs": [],
   "source": [
    "# get_comp_price_days()"
   ]
  },
  {
   "cell_type": "markdown",
   "metadata": {},
   "source": [
    "## Modelo de regresión\n",
    "\n",
    "En esta sección se utilizará un modelo de regresión para rellenar los datos que nos faltand e la tabla."
   ]
  },
  {
   "cell_type": "code",
   "execution_count": 20,
   "metadata": {},
   "outputs": [],
   "source": [
    "x = [list(index) for index, row in df.iterrows()]\n",
    "y = df['outcome_prob'].values\n",
    "#y=y.astype('int')"
   ]
  },
  {
   "cell_type": "code",
   "execution_count": 21,
   "metadata": {},
   "outputs": [],
   "source": [
    "lm = LinearRegression()\n",
    "# lm = LogisticRegression()"
   ]
  },
  {
   "cell_type": "code",
   "execution_count": 22,
   "metadata": {},
   "outputs": [
    {
     "data": {
      "text/plain": [
       "LinearRegression(copy_X=True, fit_intercept=True, n_jobs=None,\n",
       "         normalize=False)"
      ]
     },
     "execution_count": 22,
     "metadata": {},
     "output_type": "execute_result"
    }
   ],
   "source": [
    "lm.fit(x,y)"
   ]
  },
  {
   "cell_type": "markdown",
   "metadata": {},
   "source": [
    "### Obtenemos los datos de la competencia"
   ]
  },
  {
   "cell_type": "markdown",
   "metadata": {},
   "source": [
    "comp_data = competence_data()\n",
    "\n",
    "prices = deepcopy(hotel_data)\n",
    "comp_hotels_names = prices[COMPETENCE_ORDER_KEY].split(\",\")\n",
    "prices.pop(COMPETENCE_ORDER_KEY, None)\n",
    "\n",
    "##### Actualiza los datos de la competencia con los precios que faltan y las probabilidades\n",
    "for indi, hotel_name in enumerate(COMPETENCE_HOTELS):\n",
    "    for room_price in range(MIN_PRICE, MAX_PRICE, UNITS):\n",
    "        room_price = str(int(room_price))\n",
    "        if room_price in comp_data[hotel_name]:\n",
    "            pp(\"Ya existe\")\n",
    "            continue\n",
    "        else:\n",
    "            comp_data[hotel_name][room_price] = {}\n",
    "            temp_comp_prices = get_virtual_comp_prices(room_price)\n",
    "            for comp_price in temp_comp_prices:\n",
    "                comp_data[hotel_name][room_price][comp_price] = get_outcome_prob_2(room_price, comp_price)\n",
    "\n",
    "##### Actualiza los datos de nuestro hotel con los precios que faltan y las probabilidades de la competencia\n",
    "for room_price in range(MIN_PRICE, MAX_PRICE, UNITS):\n",
    "    room_price = str(int(room_price))\n",
    "    if room_price not in prices:\n",
    "        prices[room_price] = {}\n",
    "        temp_comp_prices = get_virtual_comp_prices(room_price)\n",
    "        for comp_price in temp_comp_prices:\n",
    "            prices[room_price][comp_price] = get_outcome_prob_2(room_price, comp_price)"
   ]
  },
  {
   "cell_type": "markdown",
   "metadata": {},
   "source": [
    "# Caso 1: no tenemos los precios de la competencia"
   ]
  },
  {
   "cell_type": "code",
   "execution_count": 23,
   "metadata": {},
   "outputs": [],
   "source": [
    "#comp_data_p = competence_data()\n",
    "#comp_data_p"
   ]
  },
  {
   "cell_type": "code",
   "execution_count": 24,
   "metadata": {},
   "outputs": [],
   "source": [
    "# pp(\"Axor Barajas clients with price = 100: {}\".format(comp_data['Senator Barajas'].loc[100].sum()))\n",
    "# pp(\"Axor Barajas total clients: {}\".format(comp_data['Senator Barajas'].sum()))"
   ]
  },
  {
   "cell_type": "code",
   "execution_count": 25,
   "metadata": {},
   "outputs": [
    {
     "name": "stdout",
     "output_type": "stream",
     "text": [
      "{90.0: 8.40340112221981,\n",
      " 100.0: 36.85177191785423,\n",
      " 110.0: 53.609589662852386,\n",
      " 120.0: 30.27261441450489,\n",
      " 130.0: 5.9391335807629435}\n",
      "110.0\n"
     ]
    }
   ],
   "source": [
    "ara_values = optimal_prices(hotel_data)\n",
    "print(max(ara_values.items(), key=operator.itemgetter(1))[0])"
   ]
  },
  {
   "cell_type": "markdown",
   "metadata": {},
   "source": [
    "# Caso 2: tenemos los precios de la competencia"
   ]
  },
  {
   "cell_type": "code",
   "execution_count": 26,
   "metadata": {},
   "outputs": [
    {
     "name": "stdout",
     "output_type": "stream",
     "text": [
      "               outcome_prob\n",
      "p   p0_1 p0_2              \n",
      "70  110  100       0.876258\n",
      "80  110  100       0.817012\n",
      "90  110  100       0.757767\n",
      "100 110  100       0.684534\n",
      "110 110  100       0.591246\n",
      "120 110  100       0.580030\n",
      "130 110  100       0.520784\n",
      "140 110  100       0.461538\n",
      "150 110  100       0.402293\n",
      "160 110  100       0.343047\n",
      "170 110  100       0.283801\n",
      "180 110  100       0.224556\n",
      "190 110  100       0.165310\n",
      "200 110  100       0.106064\n",
      "210 110  100       0.046819\n",
      "220 110  100       0.000000\n",
      "230 110  100       0.000000\n",
      "240 110  100       0.000000\n",
      "250 110  100       0.000000\n",
      "260 110  100       0.000000\n",
      "270 110  100       0.000000\n",
      "280 110  100       0.000000\n",
      "290 110  100       0.000000\n"
     ]
    }
   ],
   "source": [
    "comp_prices = [110, 100]\n",
    "hotel_data_wp = pd.DataFrame(columns = ['p','p0_1','p0_2','outcome_prob'])\n",
    "hotel_data_wp.set_index(['p','p0_1','p0_2'], inplace = True)\n",
    "\n",
    "for room_price in range(MIN_PRICE, MAX_PRICE, UNITS):\n",
    "    index = [room_price] + comp_prices\n",
    "    index_tup = tuple(index)\n",
    "    \n",
    "    try:\n",
    "        hotel_data_wp.loc[index_tup] =  hotel_data.loc[index_tup]['outcome_prob']\n",
    "    except Exception as e:\n",
    "        hotel_data_wp.loc[index_tup] = get_outcome_prob(room_price, comp_prices)\n",
    "\n",
    "pp(hotel_data_wp)\n",
    "#hotel_data_wp.to_csv(\"test.csv\", sep=',', encoding='utf-8')"
   ]
  },
  {
   "cell_type": "code",
   "execution_count": 27,
   "metadata": {},
   "outputs": [
    {
     "name": "stdout",
     "output_type": "stream",
     "text": [
      "{70: 70.10063431634583,\n",
      " 80: 73.53110320959927,\n",
      " 90: 75.77665868145496,\n",
      " 100: 75.29877561847354,\n",
      " 110: 70.94947401320344,\n",
      " 120: 75.40384456863566,\n",
      " 130: 72.90974635490043,\n",
      " 140: 69.23073471976748,\n",
      " 150: 64.36680966323678,\n",
      " 160: 58.317971185308366,\n",
      " 170: 51.08421928598222,\n",
      " 180: 42.665553965258304,\n",
      " 190: 33.0619752231367,\n",
      " 200: 22.27348305961736,\n",
      " 210: 10.30007747470024,\n",
      " 220: 0.0,\n",
      " 230: 0.0,\n",
      " 240: 0.0,\n",
      " 250: 0.0,\n",
      " 260: 0.0,\n",
      " 270: 0.0,\n",
      " 280: 0.0,\n",
      " 290: 0.0}\n",
      "90\n"
     ]
    }
   ],
   "source": [
    "ara_values = optimal_prices(hotel_data_wp, comp_known=True)\n",
    "print(max(ara_values.items(), key=operator.itemgetter(1))[0])"
   ]
  },
  {
   "cell_type": "code",
   "execution_count": 28,
   "metadata": {},
   "outputs": [],
   "source": [
    "x_ori = np.linspace(MIN_PRICE, MAX_PRICE - UNITS, num=23, endpoint=True)\n",
    "y_ori = list(ara_values.values())\n",
    "\n",
    "f = interp1d(x_ori, y_ori, kind='cubic')\n",
    "\n",
    "x_new = np.linspace(MIN_PRICE, MAX_PRICE - UNITS, num=177, endpoint=True)"
   ]
  },
  {
   "cell_type": "code",
   "execution_count": 29,
   "metadata": {},
   "outputs": [
    {
     "data": {
      "image/png": "[encoded data removed]",
      "text/plain": [
       "<matplotlib.figure.Figure at 0x1a1e7aca20>"
      ]
     },
     "metadata": {
      "needs_background": "light"
     },
     "output_type": "display_data"
    }
   ],
   "source": [
    "fig = plt.figure()\n",
    "\n",
    "plt.plot(x_ori, y_ori, 'o', x_new, f(x_new), '-')\n",
    "plt.legend(['datos', 'curva'], loc='best')\n",
    "plt.xlabel('Precio de la habitación')\n",
    "plt.ylabel('ARA_valor')\n",
    "plt.show()\n",
    "\n",
    "# fig.savefig(\"resultados_modo_proactivo.pdf\", bbox_inches='tight')"
   ]
  },
  {
   "cell_type": "markdown",
   "metadata": {},
   "source": [
    "## Test del modelo de regresión\n",
    "En esta sección se probaran unicamente los resultados obtenidos por el modelo de regresión"
   ]
  },
  {
   "cell_type": "code",
   "execution_count": 30,
   "metadata": {},
   "outputs": [],
   "source": [
    "lm_test = LinearRegression()\n",
    "# lm = LogisticRegression()"
   ]
  },
  {
   "cell_type": "code",
   "execution_count": 31,
   "metadata": {},
   "outputs": [],
   "source": [
    "hotel_data_ni['p0_mean'] = (hotel_data_ni['p0_1'] + hotel_data_ni['p0_2']) / 2\n",
    "\n",
    "new_x = np.array(list(zip(hotel_data_ni['p'], hotel_data_ni['p0_mean'])))\n",
    "new_y = hotel_data_ni['outcome_prob'].values\n",
    "\n",
    "#X_train, X_test, y_train, y_test = train_test_split(new_x, new_y, test_size=0.3, random_state=200)"
   ]
  },
  {
   "cell_type": "code",
   "execution_count": 32,
   "metadata": {},
   "outputs": [],
   "source": [
    "dummy_y = [5 + 3 * x + 2 * y + 6 * z for x, y, z in zip(range(0,100,2), range(0,200,4), range(0,300,6))]\n",
    "dummy_x = [[x, y, z] for x, y, z in zip(range(0,100,2), range(0,200,4), range(0,300,6))]\n",
    "                      \n",
    "#X_train, X_test, y_train, y_test = dummy_x[:40], dummy_x[40:], dummy_y[:40], dummy_y[40:]"
   ]
  },
  {
   "cell_type": "code",
   "execution_count": 33,
   "metadata": {},
   "outputs": [],
   "source": [
    "# random_state=317 -> 0.56\n",
    "# random_state=322 -> 0.55\n",
    "\n",
    "X_train, X_test, y_train, y_test = train_test_split(x, y, test_size=0.34, random_state=317)"
   ]
  },
  {
   "cell_type": "code",
   "execution_count": 34,
   "metadata": {},
   "outputs": [],
   "source": [
    "lm_test.fit(X_train, y_train)\n",
    "predictions = lm_test.predict(X_test)"
   ]
  },
  {
   "cell_type": "code",
   "execution_count": 35,
   "metadata": {},
   "outputs": [],
   "source": [
    "#pp(\"------------ PREDICTED ------------\")\n",
    "#pp(list(predictions))\n",
    "#pp(\"------------ REAL DATA ------------\")\n",
    "#pp(list(y_test))"
   ]
  },
  {
   "cell_type": "code",
   "execution_count": 36,
   "metadata": {},
   "outputs": [
    {
     "data": {
      "text/plain": [
       "array([-0.00649589, -0.00111435,  0.0031938 ])"
      ]
     },
     "execution_count": 36,
     "metadata": {},
     "output_type": "execute_result"
    }
   ],
   "source": [
    "lm_test.coef_"
   ]
  },
  {
   "cell_type": "code",
   "execution_count": 37,
   "metadata": {},
   "outputs": [
    {
     "name": "stdout",
     "output_type": "stream",
     "text": [
      "Variance score: 0.56\n"
     ]
    }
   ],
   "source": [
    "# Explained variance score: 1 is perfect prediction\n",
    "print('Variance score: %.2f' % r2_score(y_test, predictions))"
   ]
  },
  {
   "cell_type": "code",
   "execution_count": null,
   "metadata": {},
   "outputs": [],
   "source": []
  }
 ],
 "metadata": {
  "kernelspec": {
   "display_name": "Python 3",
   "language": "python",
   "name": "python3"
  },
  "language_info": {
   "codemirror_mode": {
    "name": "ipython",
    "version": 3
   },
   "file_extension": ".py",
   "mimetype": "text/x-python",
   "name": "python",
   "nbconvert_exporter": "python",
   "pygments_lexer": "ipython3",
   "version": "3.6.8"
  }
 },
 "nbformat": 4,
 "nbformat_minor": 2
}
