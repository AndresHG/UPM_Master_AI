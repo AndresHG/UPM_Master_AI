{
 "cells": [
  {
   "cell_type": "code",
   "execution_count": 2,
   "metadata": {
    "colab": {
     "base_uri": "https://localhost:8080/",
     "height": 68
    },
    "colab_type": "code",
    "executionInfo": {
     "elapsed": 36772,
     "status": "ok",
     "timestamp": 1540200569649,
     "user": {
      "displayName": "Roberto Valle",
      "photoUrl": "",
      "userId": "16469854423234079524"
     },
     "user_tz": -120
    },
    "id": "QnOyhW_UpgtO",
    "outputId": "d7729903-a0ce-42ff-954c-316628e1c4e5"
   },
   "outputs": [],
   "source": [
    "# Load CIFAR-10 data set\n",
    "from keras.datasets import cifar10\n",
    "(X_train, y_train), (X_test, y_test) = cifar10.load_data()"
   ]
  },
  {
   "cell_type": "code",
   "execution_count": 3,
   "metadata": {
    "colab": {
     "base_uri": "https://localhost:8080/",
     "height": 209
    },
    "colab_type": "code",
    "executionInfo": {
     "elapsed": 1460,
     "status": "ok",
     "timestamp": 1540200574966,
     "user": {
      "displayName": "Roberto Valle",
      "photoUrl": "",
      "userId": "16469854423234079524"
     },
     "user_tz": -120
    },
    "id": "XSUzmpMMx_I8",
    "outputId": "e9eed5c6-7d0a-4d84-b7a4-8d9cfb3e7ea6"
   },
   "outputs": [
    {
     "data": {
      "text/plain": [
       "<Figure size 800x300 with 10 Axes>"
      ]
     },
     "metadata": {},
     "output_type": "display_data"
    }
   ],
   "source": [
    "# Show examples from each class\n",
    "import numpy as np\n",
    "import matplotlib.pyplot as plt\n",
    "\n",
    "num_classes = len(np.unique(y_train))\n",
    "class_names = ['airplane','automobile','bird','cat','deer','dog','frog','horse','ship','truck']\n",
    "fig = plt.figure(figsize=(8,3))\n",
    "for i in range(num_classes):\n",
    "    ax = fig.add_subplot(2, 5, 1 + i, xticks=[], yticks=[])\n",
    "    ax.set_title(class_names[i])\n",
    "    idx = np.where(y_train[:]==i)[0]\n",
    "    features_idx = X_train[idx,::]\n",
    "    rnd_img = np.random.randint(features_idx.shape[0])\n",
    "    im = np.transpose(features_idx[rnd_img,::], (0, 1, 2))\n",
    "    plt.imshow(im)\n",
    "plt.show()"
   ]
  },
  {
   "cell_type": "code",
   "execution_count": 4,
   "metadata": {
    "colab": {},
    "colab_type": "code",
    "id": "ReKgPUpfyPp1"
   },
   "outputs": [],
   "source": [
    "# Data pre-processing\n",
    "X_train = X_train.astype('float32')\n",
    "X_test = X_test.astype('float32')\n",
    "X_train /= 255.0\n",
    "X_test /= 255.0\n",
    "\n",
    "from keras.utils import np_utils\n",
    "Y_train = np_utils.to_categorical(y_train, num_classes)\n",
    "Y_test = np_utils.to_categorical(y_test, num_classes)"
   ]
  },
  {
   "cell_type": "code",
   "execution_count": 5,
   "metadata": {
    "colab": {},
    "colab_type": "code",
    "id": "3TSYuBVN51zj"
   },
   "outputs": [],
   "source": [
    "def plot_model_history(model_history):\n",
    "    fig, axs = plt.subplots(1,2,figsize=(15,5))\n",
    "    # Summarize history for accuracy\n",
    "    axs[0].plot(range(1,len(model_history.history['acc'])+1),model_history.history['acc'])\n",
    "    axs[0].plot(range(1,len(model_history.history['val_acc'])+1),model_history.history['val_acc'])\n",
    "    axs[0].set_title('Model Accuracy')\n",
    "    axs[0].set_ylabel('Accuracy')\n",
    "    axs[0].set_xlabel('Epoch')\n",
    "    axs[0].set_xticks(np.arange(1,len(model_history.history['acc'])+1),len(model_history.history['acc'])/10)\n",
    "    axs[0].legend(['train', 'val'], loc='best')\n",
    "    # summarize history for loss\n",
    "    axs[1].plot(range(1,len(model_history.history['loss'])+1),model_history.history['loss'])\n",
    "    axs[1].plot(range(1,len(model_history.history['val_loss'])+1),model_history.history['val_loss'])\n",
    "    axs[1].set_title('Model Loss')\n",
    "    axs[1].set_ylabel('Loss')\n",
    "    axs[1].set_xlabel('Epoch')\n",
    "    axs[1].set_xticks(np.arange(1,len(model_history.history['loss'])+1),len(model_history.history['loss'])/10)\n",
    "    axs[1].legend(['train', 'val'], loc='best')\n",
    "    plt.show()"
   ]
  },
  {
   "cell_type": "code",
   "execution_count": 27,
   "metadata": {
    "colab": {
     "base_uri": "https://localhost:8080/",
     "height": 544
    },
    "colab_type": "code",
    "executionInfo": {
     "elapsed": 1351,
     "status": "ok",
     "timestamp": 1540200599038,
     "user": {
      "displayName": "Roberto Valle",
      "photoUrl": "",
      "userId": "16469854423234079524"
     },
     "user_tz": -120
    },
    "id": "q-96Zadwqk_t",
    "outputId": "faa04b08-8b24-483d-c81c-2464337a0d7d"
   },
   "outputs": [
    {
     "name": "stdout",
     "output_type": "stream",
     "text": [
      "_________________________________________________________________\n",
      "Layer (type)                 Output Shape              Param #   \n",
      "=================================================================\n",
      "conv2d_32 (Conv2D)           (None, 30, 30, 64)        1792      \n",
      "_________________________________________________________________\n",
      "conv2d_33 (Conv2D)           (None, 28, 28, 32)        18464     \n",
      "_________________________________________________________________\n",
      "max_pooling2d_22 (MaxPooling (None, 14, 14, 32)        0         \n",
      "_________________________________________________________________\n",
      "dropout_39 (Dropout)         (None, 14, 14, 32)        0         \n",
      "_________________________________________________________________\n",
      "conv2d_34 (Conv2D)           (None, 12, 12, 32)        9248      \n",
      "_________________________________________________________________\n",
      "conv2d_35 (Conv2D)           (None, 10, 10, 64)        18496     \n",
      "_________________________________________________________________\n",
      "max_pooling2d_23 (MaxPooling (None, 5, 5, 64)          0         \n",
      "_________________________________________________________________\n",
      "dropout_40 (Dropout)         (None, 5, 5, 64)          0         \n",
      "_________________________________________________________________\n",
      "flatten_17 (Flatten)         (None, 1600)              0         \n",
      "_________________________________________________________________\n",
      "activation_49 (Activation)   (None, 1600)              0         \n",
      "_________________________________________________________________\n",
      "dense_33 (Dense)             (None, 1000)              1601000   \n",
      "_________________________________________________________________\n",
      "dropout_41 (Dropout)         (None, 1000)              0         \n",
      "_________________________________________________________________\n",
      "activation_50 (Activation)   (None, 1000)              0         \n",
      "_________________________________________________________________\n",
      "dense_34 (Dense)             (None, 100)               100100    \n",
      "_________________________________________________________________\n",
      "dropout_42 (Dropout)         (None, 100)               0         \n",
      "_________________________________________________________________\n",
      "activation_51 (Activation)   (None, 100)               0         \n",
      "_________________________________________________________________\n",
      "dense_35 (Dense)             (None, 10)                1010      \n",
      "_________________________________________________________________\n",
      "activation_52 (Activation)   (None, 10)                0         \n",
      "=================================================================\n",
      "Total params: 1,750,110\n",
      "Trainable params: 1,750,110\n",
      "Non-trainable params: 0\n",
      "_________________________________________________________________\n"
     ]
    }
   ],
   "source": [
    "# Multilayer Perceptrons (MLPs)\n",
    "from keras.models import Sequential\n",
    "from keras.layers import Dense, Dropout, Activation, Flatten\n",
    "from keras.layers.convolutional import Conv2D\n",
    "from keras.layers.pooling import MaxPooling2D\n",
    "\n",
    "\"\"\"\n",
    "Test loss: 1.4308003038406372\n",
    "Test accuracy: 0.5005\n",
    "\n",
    "model = Sequential()\n",
    "model.add(Flatten(input_shape=(32, 32, 3)))\n",
    "model.add(Activation('elu'))\n",
    "model.add(Dense(1000))\n",
    "model.add(Activation('elu'))\n",
    "model.add(Dense(100))\n",
    "model.add(Activation('elu'))\n",
    "model.add(Dense(10))\n",
    "model.add(Activation('softmax'))\n",
    "\n",
    "model.compile(optimizer='adam', loss='categorical_crossentropy', metrics=['accuracy'])\n",
    "model.summary()\n",
    "\"\"\"\n",
    "\"\"\"\n",
    "# Test loss: 1.9458996531486512\n",
    "# Test accuracy: 0.6851\n",
    "\n",
    "model = Sequential()\n",
    "\n",
    "model.add(Conv2D(64, kernel_size=(3, 3), activation='elu', input_shape=(32, 32, 3)))\n",
    "model.add(Conv2D(32, kernel_size=(3, 3), activation='elu'))\n",
    "model.add(MaxPooling2D(pool_size=(2, 2)))\n",
    "model.add(Dropout(0.25))\n",
    "\n",
    "model.add(Flatten())\n",
    "model.add(Activation('elu'))\n",
    "model.add(Dense(1000))\n",
    "model.add(Activation('elu'))\n",
    "model.add(Dense(100))\n",
    "model.add(Activation('elu'))\n",
    "model.add(Dense(10))\n",
    "model.add(Activation('softmax'))\n",
    "\n",
    "model.compile(optimizer='adam', loss='categorical_crossentropy', metrics=['accuracy'])\n",
    "model.summary()\n",
    "\"\"\"\n",
    "\n",
    "\"\"\"\n",
    "#Training MLP took 1835.7603313922882 seconds\n",
    "#Test loss: 2.2038055744171143\n",
    "#Test accuracy: 0.6506\n",
    "\n",
    "model = Sequential()\n",
    "\n",
    "# https://stackoverflow.com/questions/34619177/what-does-tf-nn-conv2d-do-in-tensorflow\n",
    "model.add(Conv2D(64, kernel_size=(3, 3), activation='elu', input_shape=(32, 32, 3)))\n",
    "# https://www.quora.com/What-is-max-pooling-in-convolutional-neural-networks\n",
    "model.add(MaxPooling2D(pool_size=(2, 2)))\n",
    "# Ruido... más o menos\n",
    "model.add(Dropout(0.25))\n",
    "\n",
    "model.add(Flatten(input_shape=(32, 32, 3)))\n",
    "model.add(Activation('elu'))\n",
    "model.add(Dense(1000))\n",
    "model.add(Activation('elu'))\n",
    "model.add(Dense(100))\n",
    "model.add(Activation('elu'))\n",
    "model.add(Dense(10))\n",
    "model.add(Activation('softmax'))\n",
    "\n",
    "model.compile(optimizer='adam', loss='categorical_crossentropy', metrics=['accuracy'])\n",
    "model.summary()\n",
    "\"\"\"\n",
    "\"\"\"\n",
    "# Test loss: 1.401836185646057\n",
    "# Test accuracy: 0.7064\n",
    "# Training MLP took 2226.8992404937744 seconds\n",
    "\n",
    "model = Sequential()\n",
    "\n",
    "model.add(Conv2D(64, kernel_size=(3, 3), activation='elu', input_shape=(32, 32, 3)))\n",
    "model.add(Conv2D(32, kernel_size=(3, 3), activation='elu'))\n",
    "model.add(MaxPooling2D(pool_size=(2, 2)))\n",
    "model.add(Dropout(0.5))\n",
    "\n",
    "model.add(Flatten())\n",
    "model.add(Activation('elu'))\n",
    "model.add(Dense(1000))\n",
    "model.add(Dropout(0.5))\n",
    "model.add(Activation('elu'))\n",
    "model.add(Dense(100))\n",
    "model.add(Dropout(0.5))\n",
    "model.add(Activation('elu'))\n",
    "model.add(Dense(10))\n",
    "model.add(Activation('softmax'))\n",
    "\n",
    "model.compile(optimizer='adam', loss='categorical_crossentropy', metrics=['accuracy'])\n",
    "model.summary()\n",
    "\"\"\"\n",
    "\"\"\"\n",
    "#Con sale 64 entra a 32:\n",
    "# Test loss: 1.0052009043216705\n",
    "# Test accuracy: 0.7138\n",
    "# Training MLP took 2096.7810397148132 seconds\n",
    "\n",
    "model = Sequential()\n",
    "\n",
    "model.add(Conv2D(64, kernel_size=(3, 3), activation='elu', input_shape=(32, 32, 3)))\n",
    "model.add(Conv2D(32, kernel_size=(3, 3), activation='elu'))\n",
    "model.add(MaxPooling2D(pool_size=(2, 2)))\n",
    "model.add(Dropout(0.5))\n",
    "\n",
    "model.add(Conv2D(64, kernel_size=(3, 3), activation='elu'))\n",
    "model.add(Conv2D(32, kernel_size=(3, 3), activation='elu', input_shape=(32, 32, 3)))\n",
    "model.add(MaxPooling2D(pool_size=(2, 2)))\n",
    "model.add(Dropout(0.5))\n",
    "\n",
    "model.add(Flatten())\n",
    "model.add(Activation('elu'))\n",
    "model.add(Dense(1000))\n",
    "model.add(Dropout(0.5))\n",
    "model.add(Activation('elu'))\n",
    "model.add(Dense(100))\n",
    "model.add(Dropout(0.5))\n",
    "model.add(Activation('elu'))\n",
    "model.add(Dense(10))\n",
    "model.add(Activation('softmax'))\n",
    "\n",
    "model.compile(optimizer='adam', loss='categorical_crossentropy', metrics=['accuracy'])\n",
    "model.summary()\n",
    "\"\"\"\n",
    "#Con sale 32 entra a 32:\n",
    "\n",
    "# Test loss: 1.035853784275055\n",
    "# Test accuracy: 0.7291\n",
    "# Training MLP took 2071.0573613643646 seconds\n",
    "\n",
    "model = Sequential()\n",
    "\n",
    "model.add(Conv2D(64, kernel_size=(3, 3), activation='elu', input_shape=(32, 32, 3)))\n",
    "model.add(Conv2D(32, kernel_size=(3, 3), activation='elu'))\n",
    "model.add(MaxPooling2D(pool_size=(2, 2)))\n",
    "model.add(Dropout(0.5))\n",
    "\n",
    "model.add(Conv2D(32, kernel_size=(3, 3), activation='elu'))\n",
    "model.add(Conv2D(64, kernel_size=(3, 3), activation='elu', input_shape=(32, 32, 3)))\n",
    "model.add(MaxPooling2D(pool_size=(2, 2)))\n",
    "model.add(Dropout(0.5))\n",
    "\n",
    "model.add(Flatten())\n",
    "model.add(Activation('elu'))\n",
    "model.add(Dense(1000))\n",
    "model.add(Dropout(0.5))\n",
    "model.add(Activation('elu'))\n",
    "model.add(Dense(100))\n",
    "model.add(Dropout(0.5))\n",
    "model.add(Activation('elu'))\n",
    "model.add(Dense(10))\n",
    "model.add(Activation('softmax'))\n",
    "\n",
    "model.compile(optimizer='adam', loss='categorical_crossentropy', metrics=['accuracy'])\n",
    "model.summary()"
   ]
  },
  {
   "cell_type": "code",
   "execution_count": 28,
   "metadata": {
    "colab": {
     "base_uri": "https://localhost:8080/",
     "height": 3060
    },
    "colab_type": "code",
    "id": "NJ7U0u3IpuPj",
    "outputId": "57b74713-afd3-49fb-b0ec-f20d6ba9ab5a",
    "scrolled": false
   },
   "outputs": [
    {
     "name": "stdout",
     "output_type": "stream",
     "text": [
      "Train on 50000 samples, validate on 10000 samples\n",
      "Epoch 1/20\n",
      "50000/50000 [==============================] - 102s 2ms/step - loss: 1.7280 - acc: 0.3732 - val_loss: 1.5017 - val_acc: 0.4785\n",
      "Epoch 2/20\n",
      "50000/50000 [==============================] - 102s 2ms/step - loss: 1.3908 - acc: 0.5085 - val_loss: 1.4048 - val_acc: 0.5395\n",
      "Epoch 3/20\n",
      "50000/50000 [==============================] - 102s 2ms/step - loss: 1.2834 - acc: 0.5457 - val_loss: 1.2704 - val_acc: 0.5934\n",
      "Epoch 4/20\n",
      "50000/50000 [==============================] - 102s 2ms/step - loss: 1.2207 - acc: 0.5702 - val_loss: 1.2528 - val_acc: 0.6040\n",
      "Epoch 5/20\n",
      "50000/50000 [==============================] - 102s 2ms/step - loss: 1.1637 - acc: 0.5943 - val_loss: 1.0984 - val_acc: 0.6533\n",
      "Epoch 6/20\n",
      "50000/50000 [==============================] - 102s 2ms/step - loss: 1.1136 - acc: 0.6117 - val_loss: 1.1234 - val_acc: 0.6478\n",
      "Epoch 7/20\n",
      "50000/50000 [==============================] - 102s 2ms/step - loss: 1.0715 - acc: 0.6267 - val_loss: 1.0122 - val_acc: 0.6720\n",
      "Epoch 8/20\n",
      "50000/50000 [==============================] - 103s 2ms/step - loss: 1.0243 - acc: 0.6418 - val_loss: 1.2663 - val_acc: 0.6448\n",
      "Epoch 9/20\n",
      "50000/50000 [==============================] - 105s 2ms/step - loss: 0.9909 - acc: 0.6559 - val_loss: 1.1118 - val_acc: 0.6728\n",
      "Epoch 10/20\n",
      "50000/50000 [==============================] - 104s 2ms/step - loss: 0.9668 - acc: 0.6653 - val_loss: 1.0839 - val_acc: 0.6845\n",
      "Epoch 11/20\n",
      "50000/50000 [==============================] - 104s 2ms/step - loss: 0.9368 - acc: 0.6748 - val_loss: 1.0948 - val_acc: 0.6920\n",
      "Epoch 12/20\n",
      "50000/50000 [==============================] - 105s 2ms/step - loss: 0.9042 - acc: 0.6884 - val_loss: 0.9751 - val_acc: 0.7143\n",
      "Epoch 13/20\n",
      "50000/50000 [==============================] - 104s 2ms/step - loss: 0.8812 - acc: 0.6958 - val_loss: 1.0750 - val_acc: 0.7001\n",
      "Epoch 14/20\n",
      "50000/50000 [==============================] - 105s 2ms/step - loss: 0.8726 - acc: 0.6971 - val_loss: 0.9057 - val_acc: 0.7336\n",
      "Epoch 15/20\n",
      "50000/50000 [==============================] - 104s 2ms/step - loss: 0.8501 - acc: 0.7076 - val_loss: 0.8760 - val_acc: 0.7403\n",
      "Epoch 16/20\n",
      "50000/50000 [==============================] - 104s 2ms/step - loss: 0.8357 - acc: 0.7117 - val_loss: 0.9179 - val_acc: 0.7348\n",
      "Epoch 17/20\n",
      "50000/50000 [==============================] - 105s 2ms/step - loss: 0.8184 - acc: 0.7174 - val_loss: 1.0002 - val_acc: 0.7250\n",
      "Epoch 18/20\n",
      "50000/50000 [==============================] - 105s 2ms/step - loss: 0.8115 - acc: 0.7226 - val_loss: 0.8915 - val_acc: 0.7472\n",
      "Epoch 19/20\n",
      "50000/50000 [==============================] - 105s 2ms/step - loss: 0.7975 - acc: 0.7262 - val_loss: 0.8659 - val_acc: 0.7490\n",
      "Epoch 20/20\n",
      "50000/50000 [==============================] - 105s 2ms/step - loss: 0.7857 - acc: 0.7282 - val_loss: 1.0359 - val_acc: 0.7291\n",
      "Test loss: 1.035853784275055\n",
      "Test accuracy: 0.7291\n"
     ]
    },
    {
     "data": {
      "image/png": "[encoded data removed]",
      "text/plain": [
       "<Figure size 1080x360 with 2 Axes>"
      ]
     },
     "metadata": {
      "needs_background": "light"
     },
     "output_type": "display_data"
    },
    {
     "name": "stdout",
     "output_type": "stream",
     "text": [
      "Training MLP took 2071.0573613643646 seconds\n"
     ]
    }
   ],
   "source": [
    "# Training\n",
    "import time\n",
    "start = time.time()\n",
    "history = model.fit(X_train, Y_train, batch_size=128, epochs=20, verbose=1, validation_data=(X_test, Y_test))\n",
    "end = time.time()\n",
    "\n",
    "loss, acc = model.evaluate(X_test, Y_test, verbose=0)\n",
    "print('Test loss:', loss)\n",
    "print('Test accuracy:', acc)\n",
    "\n",
    "plot_model_history(history)\n",
    "print(\"Training MLP took \" + str(end - start) + \" seconds\")"
   ]
  },
  {
   "cell_type": "code",
   "execution_count": null,
   "metadata": {
    "colab": {},
    "colab_type": "code",
    "id": "R4547GWaFX-c"
   },
   "outputs": [],
   "source": []
  }
 ],
 "metadata": {
  "accelerator": "GPU",
  "colab": {
   "collapsed_sections": [],
   "name": "cifar10_example.ipynb",
   "provenance": [],
   "version": "0.3.2"
  },
  "kernelspec": {
   "display_name": "Python 3",
   "language": "python",
   "name": "python3"
  },
  "language_info": {
   "codemirror_mode": {
    "name": "ipython",
    "version": 3
   },
   "file_extension": ".py",
   "mimetype": "text/x-python",
   "name": "python",
   "nbconvert_exporter": "python",
   "pygments_lexer": "ipython3",
   "version": "3.6.7"
  }
 },
 "nbformat": 4,
 "nbformat_minor": 1
}
